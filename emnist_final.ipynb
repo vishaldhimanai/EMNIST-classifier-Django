{
 "cells": [
  {
   "cell_type": "code",
   "execution_count": 1,
   "metadata": {},
   "outputs": [
    {
     "name": "stderr",
     "output_type": "stream",
     "text": [
      "C:\\ProgramData\\Anaconda3\\lib\\site-packages\\h5py\\__init__.py:36: FutureWarning: Conversion of the second argument of issubdtype from `float` to `np.floating` is deprecated. In future, it will be treated as `np.float64 == np.dtype(float).type`.\n",
      "  from ._conv import register_converters as _register_converters\n",
      "Using TensorFlow backend.\n"
     ]
    },
    {
     "name": "stdout",
     "output_type": "stream",
     "text": [
      "emnist-bymerge-test.csv\n",
      "emnist-bymerge-train.csv\n",
      "test.csv\n",
      "train.csv\n",
      "\n"
     ]
    }
   ],
   "source": [
    "import numpy as np # linear algebra\n",
    "import pandas as pd # data processing, CSV file I/O (e.g. pd.read_csv)\n",
    "from keras.models import Sequential\n",
    "from keras.layers import Dense\n",
    "from keras.layers import Dropout\n",
    "from keras.layers import Flatten\n",
    "from keras.layers.convolutional import Convolution2D\n",
    "from keras.layers.convolutional import MaxPooling2D\n",
    "from sklearn.preprocessing import LabelEncoder,OneHotEncoder\n",
    "from keras import backend as K\n",
    "\n",
    "\n",
    "# Input data files are available in the \"../input/\" directory.\n",
    "# For example, running this (by clicking run or pressing Shift+Enter) will list the files in the input directory\n",
    "\n",
    "from subprocess import check_output\n",
    "print(check_output([\"ls\", \"input\"]).decode(\"utf8\"))"
   ]
  },
  {
   "cell_type": "code",
   "execution_count": 3,
   "metadata": {},
   "outputs": [],
   "source": [
    "# Read training and test data files\n",
    "train = pd.read_csv(\"input/emnist-bymerge-train.csv\").values\n",
    "test  = pd.read_csv(\"input/emnist-bymerge-test.csv\").values\n",
    "\n"
   ]
  },
  {
   "cell_type": "code",
   "execution_count": 4,
   "metadata": {},
   "outputs": [],
   "source": [
    "# Reshape and normalize training data\n",
    "trainX = train[:, 1:].reshape(train.shape[0],1,28, 28).astype( 'float32' )\n",
    "X_train = trainX / 255.0\n",
    "y_train = train[:,0]\n",
    "\n",
    "testX = test[:, 1:].reshape(test.shape[0],1,28, 28).astype( 'float32' )\n",
    "X_test = testX / 255.0\n",
    "y_test = test[:,0]"
   ]
  },
  {
   "cell_type": "code",
   "execution_count": 5,
   "metadata": {},
   "outputs": [
    {
     "name": "stdout",
     "output_type": "stream",
     "text": [
      "(697931, 1, 28, 28)\n",
      "(116322, 1, 28, 28)\n"
     ]
    }
   ],
   "source": [
    "print(X_train.shape)\n",
    "print(X_test.shape)"
   ]
  },
  {
   "cell_type": "code",
   "execution_count": 12,
   "metadata": {},
   "outputs": [],
   "source": [
    "from sklearn import preprocessing\n",
    "lb = preprocessing.LabelBinarizer()\n",
    "y_train = lb.fit_transform(y_train)\n",
    "y_test = lb.fit_transform(y_test)"
   ]
  },
  {
   "cell_type": "code",
   "execution_count": 15,
   "metadata": {},
   "outputs": [
    {
     "name": "stderr",
     "output_type": "stream",
     "text": [
      "C:\\ProgramData\\Anaconda3\\lib\\site-packages\\ipykernel_launcher.py:3: UserWarning: Update your `Conv2D` call to the Keras 2 API: `Conv2D(30, (5, 5), input_shape=(1, 28, 28..., activation=\"relu\", padding=\"valid\")`\n",
      "  This is separate from the ipykernel package so we can avoid doing imports until\n",
      "C:\\ProgramData\\Anaconda3\\lib\\site-packages\\ipykernel_launcher.py:5: UserWarning: Update your `Conv2D` call to the Keras 2 API: `Conv2D(15, (3, 3), activation=\"relu\")`\n",
      "  \"\"\"\n"
     ]
    }
   ],
   "source": [
    "model = Sequential()\n",
    "K.set_image_dim_ordering('th')\n",
    "model.add(Convolution2D(30, 5, 5, border_mode= 'valid' , input_shape=(1, 28, 28),activation= 'relu' ))\n",
    "model.add(MaxPooling2D(pool_size=(2, 2)))\n",
    "model.add(Convolution2D(15, 3, 3, activation= 'relu' ))\n",
    "model.add(MaxPooling2D(pool_size=(2, 2)))\n",
    "model.add(Dropout(0.2))\n",
    "model.add(Flatten())\n",
    "model.add(Dense(128, activation= 'relu' ))\n",
    "model.add(Dense(50, activation= 'relu' ))\n",
    "model.add(Dense(47, activation= 'softmax' ))\n",
    "  # Compile model\n",
    "model.compile(loss= 'categorical_crossentropy' , optimizer= 'adam' , metrics=[ 'accuracy' ])"
   ]
  },
  {
   "cell_type": "code",
   "execution_count": 16,
   "metadata": {},
   "outputs": [
    {
     "name": "stdout",
     "output_type": "stream",
     "text": [
      "Epoch 1/30\n",
      "697931/697931 [==============================] - 121s 173us/step - loss: 0.8002 - acc: 0.7615\n",
      "Epoch 2/30\n",
      "697931/697931 [==============================] - 118s 170us/step - loss: 0.4067 - acc: 0.8604\n",
      "Epoch 3/30\n",
      "697931/697931 [==============================] - 118s 169us/step - loss: 0.3641 - acc: 0.8724\n",
      "Epoch 4/30\n",
      "697931/697931 [==============================] - 117s 167us/step - loss: 0.3425 - acc: 0.8781\n",
      "Epoch 5/30\n",
      "697931/697931 [==============================] - 117s 167us/step - loss: 0.3284 - acc: 0.8824\n",
      "Epoch 6/30\n",
      "697931/697931 [==============================] - 119s 170us/step - loss: 0.3185 - acc: 0.8848\n",
      "Epoch 7/30\n",
      "697931/697931 [==============================] - 119s 170us/step - loss: 0.3112 - acc: 0.8872\n",
      "Epoch 8/30\n",
      "697931/697931 [==============================] - 119s 170us/step - loss: 0.3052 - acc: 0.8890\n",
      "Epoch 9/30\n",
      "697931/697931 [==============================] - 120s 171us/step - loss: 0.2994 - acc: 0.8904\n",
      "Epoch 10/30\n",
      "697931/697931 [==============================] - 118s 169us/step - loss: 0.2952 - acc: 0.8918\n",
      "Epoch 11/30\n",
      "697931/697931 [==============================] - 118s 170us/step - loss: 0.2910 - acc: 0.8933\n",
      "Epoch 12/30\n",
      "697931/697931 [==============================] - 119s 170us/step - loss: 0.2884 - acc: 0.8938\n",
      "Epoch 13/30\n",
      "697931/697931 [==============================] - 118s 170us/step - loss: 0.2865 - acc: 0.8941\n",
      "Epoch 14/30\n",
      "697931/697931 [==============================] - 119s 170us/step - loss: 0.2833 - acc: 0.8952\n",
      "Epoch 15/30\n",
      "697931/697931 [==============================] - 119s 171us/step - loss: 0.2814 - acc: 0.8960\n",
      "Epoch 16/30\n",
      "697931/697931 [==============================] - 119s 171us/step - loss: 0.2792 - acc: 0.8961\n",
      "Epoch 17/30\n",
      "697931/697931 [==============================] - 119s 170us/step - loss: 0.2768 - acc: 0.8969\n",
      "Epoch 18/30\n",
      "697931/697931 [==============================] - 117s 168us/step - loss: 0.2760 - acc: 0.8975\n",
      "Epoch 19/30\n",
      "697931/697931 [==============================] - 117s 168us/step - loss: 0.2739 - acc: 0.8980\n",
      "Epoch 20/30\n",
      "697931/697931 [==============================] - 118s 169us/step - loss: 0.2720 - acc: 0.8982\n",
      "Epoch 21/30\n",
      "697931/697931 [==============================] - 117s 168us/step - loss: 0.2709 - acc: 0.8987\n",
      "Epoch 22/30\n",
      "697931/697931 [==============================] - 120s 172us/step - loss: 0.2698 - acc: 0.8990\n",
      "Epoch 23/30\n",
      "697931/697931 [==============================] - 119s 171us/step - loss: 0.2695 - acc: 0.8992\n",
      "Epoch 24/30\n",
      "697931/697931 [==============================] - 119s 171us/step - loss: 0.2675 - acc: 0.8995\n",
      "Epoch 25/30\n",
      "697931/697931 [==============================] - 118s 169us/step - loss: 0.2672 - acc: 0.8998\n",
      "Epoch 26/30\n",
      "697931/697931 [==============================] - 119s 170us/step - loss: 0.2655 - acc: 0.9002\n",
      "Epoch 27/30\n",
      "697931/697931 [==============================] - 119s 170us/step - loss: 0.2643 - acc: 0.9005\n",
      "Epoch 28/30\n",
      "697931/697931 [==============================] - 119s 170us/step - loss: 0.2645 - acc: 0.9005\n",
      "Epoch 29/30\n",
      "697931/697931 [==============================] - 118s 169us/step - loss: 0.2627 - acc: 0.9010\n",
      "Epoch 30/30\n",
      "697931/697931 [==============================] - 118s 169us/step - loss: 0.2621 - acc: 0.9009\n"
     ]
    }
   ],
   "source": [
    "history = model.fit(X_train, y_train,\n",
    "          epochs=30,\n",
    "          batch_size=1000)"
   ]
  },
  {
   "cell_type": "code",
   "execution_count": 13,
   "metadata": {},
   "outputs": [
    {
     "name": "stdout",
     "output_type": "stream",
     "text": [
      "116322/116322 [==============================] - 20s 176us/step\n"
     ]
    }
   ],
   "source": [
    "test_loss, test_acc = model.evaluate(X_test,y_test)"
   ]
  },
  {
   "cell_type": "code",
   "execution_count": 14,
   "metadata": {},
   "outputs": [
    {
     "data": {
      "text/plain": [
       "(0.3480730035219025, 0.8777617303691477)"
      ]
     },
     "execution_count": 14,
     "metadata": {},
     "output_type": "execute_result"
    }
   ],
   "source": [
    "test_loss, test_acc"
   ]
  },
  {
   "cell_type": "code",
   "execution_count": 17,
   "metadata": {},
   "outputs": [],
   "source": [
    "model.save('model.h5')"
   ]
  },
  {
   "cell_type": "code",
   "execution_count": 18,
   "metadata": {},
   "outputs": [
    {
     "data": {
      "image/png": "[encoded data removed]",
      "text/plain": [
       "<matplotlib.figure.Figure at 0x1c8b87b61d0>"
      ]
     },
     "metadata": {},
     "output_type": "display_data"
    }
   ],
   "source": [
    "import matplotlib.pyplot as plt\n",
    "import matplotlib.image as mpimg\n",
    "import seaborn as sns\n",
    "%matplotlib inline\n",
    "\n",
    "# Plot the loss and accuracy curves for training and validation \n",
    "fig, ax = plt.subplots(2,1)\n",
    "ax[0].plot(history.history['loss'], color='b', label=\"Training loss\")\n",
    "legend = ax[0].legend(loc='best', shadow=True)\n",
    "\n",
    "ax[1].plot(history.history['acc'], color='b', label=\"Training accuracy\")\n",
    "legend = ax[1].legend(loc='best', shadow=True)"
   ]
  },
  {
   "cell_type": "code",
   "execution_count": 19,
   "metadata": {},
   "outputs": [],
   "source": [
    "# serialize model to JSON\n",
    "model_json = model.to_json()\n",
    "with open(\"model.json\", \"w\") as json_file:\n",
    "    json_file.write(model_json)"
   ]
  },
  {
   "cell_type": "code",
   "execution_count": null,
   "metadata": {},
   "outputs": [],
   "source": []
  }
 ],
 "metadata": {
  "kernelspec": {
   "display_name": "Python 3",
   "language": "python",
   "name": "python3"
  },
  "language_info": {
   "codemirror_mode": {
    "name": "ipython",
    "version": 3
   },
   "file_extension": ".py",
   "mimetype": "text/x-python",
   "name": "python",
   "nbconvert_exporter": "python",
   "pygments_lexer": "ipython3",
   "version": "3.6.4"
  }
 },
 "nbformat": 4,
 "nbformat_minor": 2
}
